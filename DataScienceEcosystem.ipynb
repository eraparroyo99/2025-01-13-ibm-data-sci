{
  "metadata": {
    "kernelspec": {
      "name": "python",
      "display_name": "Python (Pyodide)",
      "language": "python"
    },
    "language_info": {
      "codemirror_mode": {
        "name": "python",
        "version": 3
      },
      "file_extension": ".py",
      "mimetype": "text/x-python",
      "name": "python",
      "nbconvert_exporter": "python",
      "pygments_lexer": "ipython3",
      "version": "3.8"
    }
  },
  "nbformat_minor": 5,
  "nbformat": 4,
  "cells": [
    {
      "id": "e04504e8-ddc1-4e51-b852-37dcb90c1d8d",
      "cell_type": "markdown",
      "source": "# Data Science Tools and Ecosystem",
      "metadata": {}
    },
    {
      "id": "22fbd393-d2f5-4adf-a129-e7e8de1006f6",
      "cell_type": "markdown",
      "source": "In this notebook, Data Science Tools and Ecosystem are summarized.",
      "metadata": {}
    },
    {
      "id": "84d9e60a-8ed7-45a6-a04e-7018f4a1b4f5",
      "cell_type": "markdown",
      "source": "**Objectives:**\n- To list some popular data science languages\n- To list some commonly used data science libraries\n- To list some data science open-source development environments",
      "metadata": {}
    },
    {
      "id": "4a79630c-468f-4075-b544-68988e622eb7",
      "cell_type": "markdown",
      "source": "## Author\nNeil Tristan Yabut",
      "metadata": {}
    },
    {
      "id": "6b6c8136-f240-47e2-8eb4-ed350ce764fd",
      "cell_type": "markdown",
      "source": "Some of the popular languages that Data Scientists use are:\n1. Python\n2. R\n3. Scala\n4. C++\n5. MATLAB",
      "metadata": {}
    },
    {
      "id": "5c7d82c5-3964-48a6-a016-d854b59787eb",
      "cell_type": "markdown",
      "source": "Some of the commonly used libraries used by Data Scientists include:\n1. NumPy\n2. Pandas\n3. Matplotlib\n4. Scikit-learn\n5. SciPy",
      "metadata": {}
    },
    {
      "id": "309040ef-c095-43cc-acbd-894f7498afd8",
      "cell_type": "markdown",
      "source": "| Data Science Tools |\n|:---:|\n| R Studio |\n| Hadoop |\n| PyCharm |",
      "metadata": {}
    },
    {
      "id": "abcf4f19-fe0e-48fa-b9cf-8b7b4d2ad00b",
      "cell_type": "markdown",
      "source": "### Below are a few examples of evaluating arithmetic expressions in Python",
      "metadata": {}
    },
    {
      "id": "6b87bced-fa9e-4df1-b333-dea039214f33",
      "cell_type": "code",
      "source": "#This a simple arithmetic expression to multiply then add integers\n(3*4)+5",
      "metadata": {
        "trusted": true,
        "scrolled": true
      },
      "outputs": [
        {
          "execution_count": 15,
          "output_type": "execute_result",
          "data": {
            "text/plain": "17"
          },
          "metadata": {}
        }
      ],
      "execution_count": 15
    },
    {
      "id": "80bcb3d8-26d6-4beb-8fc7-ebb56fe950f7",
      "cell_type": "code",
      "source": "#This will convert 200 minutes to hours by *dividing by 60\n200/60",
      "metadata": {
        "trusted": true
      },
      "outputs": [
        {
          "execution_count": 16,
          "output_type": "execute_result",
          "data": {
            "text/plain": "3.3333333333333335"
          },
          "metadata": {}
        }
      ],
      "execution_count": 16
    }
  ]
}